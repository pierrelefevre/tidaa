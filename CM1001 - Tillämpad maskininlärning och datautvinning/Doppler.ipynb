{
  "cells": [
    {
      "cell_type": "markdown",
      "metadata": {
        "id": "o2jmfVemsbAL"
      },
      "source": [
        "# Doppler Image Segmentation \n",
        "## Lab 2, Applied Machine Learning\n",
        "\n",
        "**Pierre Le Fevre, VT 2022**\n",
        "\n",
        "---"
      ]
    },
    {
      "cell_type": "markdown",
      "metadata": {
        "id": "hsKGdQwXRSeq"
      },
      "source": [
        "## Import images\n",
        "There are 153 expert masks, where they generally map to both \"H\" (noisy) and \"O\" (clean) images. Both are added with the matching mask to the arrays to ensure that the model has many different types to train on.\n"
      ]
    },
    {
      "cell_type": "code",
      "execution_count": null,
      "metadata": {
        "id": "0MO0p_875Qv2"
      },
      "outputs": [],
      "source": [
        "import cv2\n",
        "import os\n",
        "from google.colab.patches import cv2_imshow\n",
        "import numpy as np\n",
        "import matplotlib.pyplot as plt\n",
        "import tensorflow as tf\n",
        "from keras.models import * \n",
        "from keras.layers import *\n",
        "from keras.optimizers import *\n",
        "import keras.backend as K\n",
        "import matplotlib.pyplot as plt\n",
        "from random import shuffle\n",
        "from tensorflow import keras"
      ]
    },
    {
      "cell_type": "code",
      "execution_count": null,
      "metadata": {
        "colab": {
          "base_uri": "https://localhost:8080/"
        },
        "id": "uK7IiFM2sYru",
        "outputId": "a9a268d5-d176-4761-b8cf-38ac4f3d5b59"
      },
      "outputs": [
        {
          "output_type": "stream",
          "name": "stdout",
          "text": [
            "Drive already mounted at /content/drive/; to attempt to forcibly remount, call drive.mount(\"/content/drive/\", force_remount=True).\n"
          ]
        }
      ],
      "source": [
        "from google.colab import drive\n",
        "drive.mount('/content/drive/')"
      ]
    },
    {
      "cell_type": "code",
      "execution_count": null,
      "metadata": {
        "id": "dQYZTxzVwC0Y"
      },
      "outputs": [],
      "source": [
        "FILEPATH = '/content/drive/MyDrive/ML_Data/Doppler/'\n",
        "SIZE = 128\n",
        "\n",
        "def load_masked_images():\n",
        "    raw_images = []\n",
        "    mask_images = []\n",
        "    \n",
        "    for mask_filename in sorted(os.listdir(os.path.join(FILEPATH, \"mask\"))):\n",
        "        raw_filename = mask_filename.replace(\"M\", \"\") #Raw file with \"o\" in filepath, less noise\n",
        "        raw_h_filename = raw_filename.replace(\"O\", \"H\") #Raw file with \"h\" in filepath, more noise\n",
        "        \n",
        "        \n",
        "        raw_img = cv2.imread(os.path.join(FILEPATH, \"raw\", raw_filename), 0)\n",
        "        raw_h_img = cv2.imread(os.path.join(FILEPATH, \"raw\", raw_h_filename), 0)\n",
        "        mask_img = cv2.imread(os.path.join(FILEPATH, \"mask\", mask_filename), 0)\n",
        "\n",
        "        if raw_img is not None and mask_img is not None:\n",
        "            raw_images.append(cv2.resize(raw_img, (SIZE, SIZE)))\n",
        "            mask_images.append(cv2.resize(mask_img, (SIZE, SIZE)))\n",
        "        if raw_h_img is not None and mask_img is not None:\n",
        "            raw_images.append(cv2.resize(raw_h_img, (SIZE, SIZE)))\n",
        "            mask_images.append(cv2.resize(mask_img, (SIZE, SIZE)))\n",
        "\n",
        "    return raw_images, mask_images\n",
        "\n",
        "def load_all_images():\n",
        "    images = []\n",
        "    folder=\"raw\"\n",
        "    \n",
        "    for filename in sorted(os.listdir(os.path.join(FILEPATH, folder))):   \n",
        "        # Check if file has a corresponding mask   \n",
        "        if filename.replace(\"O\", \"OM\").replace(\"H\", \"OM\") in os.listdir(os.path.join(FILEPATH, \"mask\")):\n",
        "          continue\n",
        "\n",
        "        img = cv2.imread(os.path.join(FILEPATH, folder,filename), 0)\n",
        "\n",
        "        if img is not None:\n",
        "            images.append(cv2.resize(img, (SIZE, SIZE)))\n",
        "    return images\n",
        "\n",
        "all_images = load_all_images()\n",
        "raw_images, mask_images = load_masked_images()"
      ]
    },
    {
      "cell_type": "code",
      "execution_count": null,
      "metadata": {
        "colab": {
          "base_uri": "https://localhost:8080/"
        },
        "id": "rDZdoJ7t8i6C",
        "outputId": "28598a21-f898-461f-b8f4-1fc73319c8d6"
      },
      "outputs": [
        {
          "output_type": "stream",
          "name": "stdout",
          "text": [
            "304\n",
            "304\n",
            "108\n"
          ]
        }
      ],
      "source": [
        "print(len(raw_images))\n",
        "print(len(mask_images))\n",
        "print(len(all_images))"
      ]
    },
    {
      "cell_type": "code",
      "execution_count": null,
      "metadata": {
        "colab": {
          "base_uri": "https://localhost:8080/",
          "height": 401
        },
        "id": "moULww_r03bU",
        "outputId": "568b1ba3-b813-4c14-911e-4bfdae107a3b"
      },
      "outputs": [
        {
          "output_type": "display_data",
          "data": {
            "image/png": "[encoded data removed]",
            "text/plain": [
              "<PIL.Image.Image image mode=L size=128x128 at 0x7F3F73AD3990>"
            ]
          },
          "metadata": {}
        },
        {
          "output_type": "display_data",
          "data": {
            "image/png": "[encoded data removed]",
            "text/plain": [
              "<PIL.Image.Image image mode=L size=128x128 at 0x7F3F73AD3790>"
            ]
          },
          "metadata": {}
        },
        {
          "output_type": "display_data",
          "data": {
            "image/png": "[encoded data removed]",
            "text/plain": [
              "<PIL.Image.Image image mode=L size=128x128 at 0x7F3F73AD37D0>"
            ]
          },
          "metadata": {}
        }
      ],
      "source": [
        "cv2_imshow(raw_images[0])\n",
        "cv2_imshow(mask_images[0])\n",
        "cv2_imshow(all_images[0])"
      ]
    },
    {
      "cell_type": "code",
      "execution_count": null,
      "metadata": {
        "colab": {
          "base_uri": "https://localhost:8080/"
        },
        "id": "0wALNe3sW9c2",
        "outputId": "de0b79a4-ed77-4d07-f40b-dea841b9372d"
      },
      "outputs": [
        {
          "output_type": "stream",
          "name": "stdout",
          "text": [
            "mask shape (304, 128, 128)\n",
            "raw shape (304, 128, 128)\n"
          ]
        }
      ],
      "source": [
        "print('mask shape', np.array(mask_images).shape)\n",
        "print('raw shape', np.array(raw_images).shape)"
      ]
    },
    {
      "cell_type": "markdown",
      "source": [
        "## Normalize values\n",
        "\n",
        "Values need to be normalized to make weight differences as small as possible."
      ],
      "metadata": {
        "id": "d00ntwRPqxzy"
      }
    },
    {
      "cell_type": "code",
      "execution_count": null,
      "metadata": {
        "id": "jYzDFl-hVal1"
      },
      "outputs": [],
      "source": [
        "# Shape as numpy arrays\n",
        "mask_images = np.array(mask_images).reshape(np.array(mask_images).shape[0], SIZE, SIZE, 1)\n",
        "raw_images = np.array(raw_images).reshape(np.array(raw_images).shape[0], SIZE, SIZE, 1)\n",
        "all_images = np.array(all_images).reshape(np.array(all_images).shape[0], SIZE, SIZE, 1)\n",
        "\n",
        "# Make the arrays into float arrays so that values are preserved\n",
        "mask_images = mask_images.astype('float32')\n",
        "raw_images = raw_images.astype('float32')\n",
        "all_images = all_images.astype('float32')\n",
        "\n",
        "# Normalize images\n",
        "mask_images /= 255\n",
        "raw_images /= 255\n",
        "all_images /= 255"
      ]
    },
    {
      "cell_type": "markdown",
      "metadata": {
        "id": "wsIwpnDWRWUv"
      },
      "source": [
        "## Prepare for NN\n",
        "GPU presence is verified as training the model is essentially impossible without one."
      ]
    },
    {
      "cell_type": "code",
      "execution_count": null,
      "metadata": {
        "colab": {
          "base_uri": "https://localhost:8080/"
        },
        "id": "C-QstWViS1j_",
        "outputId": "29b24c0c-1837-4ed5-c8e4-7843d1505f23"
      },
      "outputs": [
        {
          "output_type": "stream",
          "name": "stdout",
          "text": [
            "Num GPUs Available:  1\n"
          ]
        }
      ],
      "source": [
        "print(\"Num GPUs Available: \", len(tf.config.experimental.list_physical_devices('GPU')))"
      ]
    },
    {
      "cell_type": "markdown",
      "metadata": {
        "id": "B5rH9dYrE1gL"
      },
      "source": [
        "## CNN (UNet)\n",
        "\n",
        "This neural network is shaped as a UNet, where inputs are images at 128*128 px.\n",
        "Dropout and batch normalizers were tried to improve overfitting but results were of dubious improvement. \n",
        "\n",
        "Adding layers seemed to improve noise reduction and generated overall more usable images."
      ]
    },
    {
      "cell_type": "code",
      "execution_count": null,
      "metadata": {
        "colab": {
          "base_uri": "https://localhost:8080/"
        },
        "id": "fD4HZdxtRa_t",
        "outputId": "80b400d1-7218-4162-f3c7-328991b77bf8"
      },
      "outputs": [
        {
          "output_type": "stream",
          "name": "stdout",
          "text": [
            "Model: \"model_11\"\n",
            "__________________________________________________________________________________________________\n",
            " Layer (type)                   Output Shape         Param #     Connected to                     \n",
            "==================================================================================================\n",
            " input_17 (InputLayer)          [(None, 128, 128, 1  0           []                               \n",
            "                                )]                                                                \n",
            "                                                                                                  \n",
            " conv2d_327 (Conv2D)            (None, 128, 128, 64  640         ['input_17[0][0]']               \n",
            "                                )                                                                 \n",
            "                                                                                                  \n",
            " conv2d_328 (Conv2D)            (None, 128, 128, 64  36928       ['conv2d_327[0][0]']             \n",
            "                                )                                                                 \n",
            "                                                                                                  \n",
            " max_pooling2d_56 (MaxPooling2D  (None, 64, 64, 64)  0           ['conv2d_328[0][0]']             \n",
            " )                                                                                                \n",
            "                                                                                                  \n",
            " conv2d_329 (Conv2D)            (None, 64, 64, 128)  73856       ['max_pooling2d_56[0][0]']       \n",
            "                                                                                                  \n",
            " conv2d_330 (Conv2D)            (None, 64, 64, 128)  147584      ['conv2d_329[0][0]']             \n",
            "                                                                                                  \n",
            " max_pooling2d_57 (MaxPooling2D  (None, 32, 32, 128)  0          ['conv2d_330[0][0]']             \n",
            " )                                                                                                \n",
            "                                                                                                  \n",
            " conv2d_331 (Conv2D)            (None, 32, 32, 256)  295168      ['max_pooling2d_57[0][0]']       \n",
            "                                                                                                  \n",
            " conv2d_332 (Conv2D)            (None, 32, 32, 256)  590080      ['conv2d_331[0][0]']             \n",
            "                                                                                                  \n",
            " max_pooling2d_58 (MaxPooling2D  (None, 16, 16, 256)  0          ['conv2d_332[0][0]']             \n",
            " )                                                                                                \n",
            "                                                                                                  \n",
            " conv2d_333 (Conv2D)            (None, 16, 16, 512)  1180160     ['max_pooling2d_58[0][0]']       \n",
            "                                                                                                  \n",
            " conv2d_334 (Conv2D)            (None, 16, 16, 512)  2359808     ['conv2d_333[0][0]']             \n",
            "                                                                                                  \n",
            " max_pooling2d_59 (MaxPooling2D  (None, 8, 8, 512)   0           ['conv2d_334[0][0]']             \n",
            " )                                                                                                \n",
            "                                                                                                  \n",
            " conv2d_335 (Conv2D)            (None, 8, 8, 1024)   4719616     ['max_pooling2d_59[0][0]']       \n",
            "                                                                                                  \n",
            " conv2d_336 (Conv2D)            (None, 8, 8, 1024)   9438208     ['conv2d_335[0][0]']             \n",
            "                                                                                                  \n",
            " concatenate_46 (Concatenate)   (None, 8, 8, 1536)   0           ['max_pooling2d_59[0][0]',       \n",
            "                                                                  'conv2d_336[0][0]']             \n",
            "                                                                                                  \n",
            " up_sampling2d_47 (UpSampling2D  (None, 16, 16, 1536  0          ['concatenate_46[0][0]']         \n",
            " )                              )                                                                 \n",
            "                                                                                                  \n",
            " conv2d_337 (Conv2D)            (None, 16, 16, 512)  7078400     ['up_sampling2d_47[0][0]']       \n",
            "                                                                                                  \n",
            " conv2d_338 (Conv2D)            (None, 16, 16, 512)  2359808     ['conv2d_337[0][0]']             \n",
            "                                                                                                  \n",
            " concatenate_47 (Concatenate)   (None, 16, 16, 768)  0           ['max_pooling2d_58[0][0]',       \n",
            "                                                                  'conv2d_338[0][0]']             \n",
            "                                                                                                  \n",
            " up_sampling2d_48 (UpSampling2D  (None, 32, 32, 768)  0          ['concatenate_47[0][0]']         \n",
            " )                                                                                                \n",
            "                                                                                                  \n",
            " conv2d_339 (Conv2D)            (None, 32, 32, 256)  1769728     ['up_sampling2d_48[0][0]']       \n",
            "                                                                                                  \n",
            " conv2d_340 (Conv2D)            (None, 32, 32, 256)  590080      ['conv2d_339[0][0]']             \n",
            "                                                                                                  \n",
            " concatenate_48 (Concatenate)   (None, 32, 32, 384)  0           ['max_pooling2d_57[0][0]',       \n",
            "                                                                  'conv2d_340[0][0]']             \n",
            "                                                                                                  \n",
            " up_sampling2d_49 (UpSampling2D  (None, 64, 64, 384)  0          ['concatenate_48[0][0]']         \n",
            " )                                                                                                \n",
            "                                                                                                  \n",
            " conv2d_341 (Conv2D)            (None, 64, 64, 128)  442496      ['up_sampling2d_49[0][0]']       \n",
            "                                                                                                  \n",
            " conv2d_342 (Conv2D)            (None, 64, 64, 128)  147584      ['conv2d_341[0][0]']             \n",
            "                                                                                                  \n",
            " concatenate_49 (Concatenate)   (None, 64, 64, 192)  0           ['max_pooling2d_56[0][0]',       \n",
            "                                                                  'conv2d_342[0][0]']             \n",
            "                                                                                                  \n",
            " up_sampling2d_50 (UpSampling2D  (None, 128, 128, 19  0          ['concatenate_49[0][0]']         \n",
            " )                              2)                                                                \n",
            "                                                                                                  \n",
            " conv2d_343 (Conv2D)            (None, 128, 128, 64  110656      ['up_sampling2d_50[0][0]']       \n",
            "                                )                                                                 \n",
            "                                                                                                  \n",
            " conv2d_344 (Conv2D)            (None, 128, 128, 64  36928       ['conv2d_343[0][0]']             \n",
            "                                )                                                                 \n",
            "                                                                                                  \n",
            " conv2d_345 (Conv2D)            (None, 128, 128, 1)  65          ['conv2d_344[0][0]']             \n",
            "                                                                                                  \n",
            "==================================================================================================\n",
            "Total params: 31,377,793\n",
            "Trainable params: 31,377,793\n",
            "Non-trainable params: 0\n",
            "__________________________________________________________________________________________________\n"
          ]
        }
      ],
      "source": [
        "input_size = (SIZE, SIZE, 1)\n",
        "kernel_size = (3,3)\n",
        "\n",
        "inputs = Input(input_size)\n",
        "\n",
        "# 128 -> 64\n",
        "conv_down_1 = Conv2D(64, kernel_size, activation='relu', padding='same')(inputs)\n",
        "conv_down_1 = Conv2D(64, kernel_size, activation='relu', padding='same')(conv_down_1)\n",
        "pool1 = MaxPooling2D((2,2), padding='same')(conv_down_1)\n",
        "\n",
        "# 64 -> 32\n",
        "conv_down_2 = Conv2D(128, kernel_size, activation='relu', padding='same')(pool1)\n",
        "conv_down_2 = Conv2D(128, kernel_size, activation='relu', padding='same')(conv_down_2)\n",
        "pool2 = MaxPooling2D((2,2), padding='same')(conv_down_2)\n",
        "\n",
        "# 32 -> 16\n",
        "conv_down_3 = Conv2D(256, kernel_size, activation='relu', padding='same')(pool2)\n",
        "conv_down_3 = Conv2D(256, kernel_size, activation='relu', padding='same')(conv_down_3)\n",
        "pool3 = MaxPooling2D((2,2), padding='same')(conv_down_3)\n",
        "\n",
        "# 16 -> 8\n",
        "conv_down_4 = Conv2D(512, kernel_size, activation='relu', padding='same')(pool3)\n",
        "conv_down_4 = Conv2D(512, kernel_size, activation='relu', padding='same')(conv_down_4)\n",
        "pool4 = MaxPooling2D((2,2), padding='same')(conv_down_4)\n",
        "\n",
        "## Bottom of the \"U\"\n",
        "bottom = Conv2D(1024, kernel_size, activation='relu', padding='same')(pool4)\n",
        "bottom = Conv2D(1024, kernel_size, activation='relu', padding='same')(bottom)\n",
        "## Go back up\n",
        "\n",
        "# 8 -> 16\n",
        "merge1 = Concatenate(axis=3)([pool4, bottom])\n",
        "up1 = UpSampling2D(size=(2,2))(merge1)\n",
        "conv_up_1 = Conv2D(512, kernel_size, activation='relu', padding='same')(up1)\n",
        "conv_up_1 = Conv2D(512, kernel_size, activation='relu', padding='same')(conv_up_1)\n",
        "\n",
        "# 16 -> 32\n",
        "merge2 = Concatenate(axis=3)([pool3, conv_up_1])\n",
        "up2 = UpSampling2D(size=(2,2))(merge2)\n",
        "conv_up_2 = Conv2D(256, kernel_size, activation='relu', padding='same')(up2)\n",
        "conv_up_2 = Conv2D(256, kernel_size, activation='relu', padding='same')(conv_up_2)\n",
        "\n",
        "# 32 -> 64\n",
        "merge3 = Concatenate(axis=3)([pool2, conv_up_2])\n",
        "up3 = UpSampling2D(size=(2,2))(merge3)\n",
        "conv_up_3 = Conv2D(128, kernel_size, activation='relu', padding='same')(up3)\n",
        "conv_up_3 = Conv2D(128, kernel_size, activation='relu', padding='same')(conv_up_3)\n",
        "\n",
        "# 64 -> 128\n",
        "merge4 = Concatenate(axis=3)([pool1, conv_up_3])\n",
        "up4 = UpSampling2D(size=(2,2))(merge4)\n",
        "conv_up_4 = Conv2D(64, kernel_size, activation='relu', padding='same')(up4)\n",
        "conv_up_4 = Conv2D(64, kernel_size, activation='relu', padding='same')(conv_up_4)\n",
        "\n",
        "output = Conv2D(1, (1,1), activation='sigmoid', padding='same')(conv_up_4)\n",
        "\n",
        "model = Model(inputs, output)\n",
        "\n",
        "model.summary()"
      ]
    },
    {
      "cell_type": "markdown",
      "metadata": {
        "id": "D84FMz8ZGMoj"
      },
      "source": [
        "## Compile and train model\n",
        "The model must now be trained, which can be done using sklearn's `train_test_split`. \n",
        "Binary crossentropy was chosen as the task is a binary image segmentation model.\n",
        "\n",
        "Both \"O\" (clean) and \"H\" (noisy) images are used to create a model which can predict a more accurate mask for both types of input."
      ]
    },
    {
      "cell_type": "code",
      "execution_count": null,
      "metadata": {
        "colab": {
          "base_uri": "https://localhost:8080/",
          "height": 682
        },
        "id": "_lySRyB9xj_P",
        "outputId": "1d9e5e8a-68ab-4556-9297-de0e28db3c86"
      },
      "outputs": [
        {
          "output_type": "stream",
          "name": "stdout",
          "text": [
            "Epoch 1/11\n",
            "8/8 [==============================] - 4s 296ms/step - loss: 19.0143 - accuracy: 0.7715 - val_loss: 0.6544 - val_accuracy: 0.6947\n",
            "Epoch 2/11\n",
            "8/8 [==============================] - 2s 248ms/step - loss: 0.6304 - accuracy: 0.7696 - val_loss: 0.5396 - val_accuracy: 0.8747\n",
            "Epoch 3/11\n",
            "8/8 [==============================] - 2s 229ms/step - loss: 0.4017 - accuracy: 0.8780 - val_loss: 0.2935 - val_accuracy: 0.8614\n",
            "Epoch 4/11\n",
            "8/8 [==============================] - 2s 232ms/step - loss: 0.3730 - accuracy: 0.8656 - val_loss: 0.2916 - val_accuracy: 0.8955\n",
            "Epoch 5/11\n",
            "8/8 [==============================] - 2s 234ms/step - loss: 0.2214 - accuracy: 0.9132 - val_loss: 0.1477 - val_accuracy: 0.9384\n",
            "Epoch 6/11\n",
            "8/8 [==============================] - 2s 230ms/step - loss: 0.1441 - accuracy: 0.9418 - val_loss: 0.1228 - val_accuracy: 0.9497\n",
            "Epoch 7/11\n",
            "8/8 [==============================] - 2s 233ms/step - loss: 0.1158 - accuracy: 0.9531 - val_loss: 0.0837 - val_accuracy: 0.9649\n",
            "Epoch 8/11\n",
            "8/8 [==============================] - 2s 237ms/step - loss: 0.0825 - accuracy: 0.9657 - val_loss: 0.0743 - val_accuracy: 0.9700\n",
            "Epoch 9/11\n",
            "8/8 [==============================] - 2s 232ms/step - loss: 0.0750 - accuracy: 0.9684 - val_loss: 0.0929 - val_accuracy: 0.9625\n",
            "Epoch 10/11\n",
            "8/8 [==============================] - 2s 245ms/step - loss: 0.0780 - accuracy: 0.9688 - val_loss: 0.0647 - val_accuracy: 0.9731\n",
            "Epoch 11/11\n",
            "8/8 [==============================] - 2s 236ms/step - loss: 0.0683 - accuracy: 0.9703 - val_loss: 0.0617 - val_accuracy: 0.9724\n",
            "2/2 - 0s - loss: 0.0617 - accuracy: 0.9724 - 164ms/epoch - 82ms/step\n"
          ]
        },
        {
          "output_type": "display_data",
          "data": {
            "image/png": "[encoded data removed]",
            "text/plain": [
              "<Figure size 432x288 with 1 Axes>"
            ]
          },
          "metadata": {
            "needs_background": "light"
          }
        }
      ],
      "source": [
        "model.compile(optimizer='adam', loss='binary_crossentropy', metrics=['accuracy'])\n",
        "\n",
        "from sklearn.model_selection import train_test_split\n",
        "\n",
        "train_images, test_images, train_masks, test_masks = train_test_split(raw_images, mask_images, test_size=0.2)\n",
        "\n",
        "history = model.fit(train_images, train_masks, epochs=11, validation_data=(test_images, test_masks))\n",
        "\n",
        "plt.plot(history.history['accuracy'], label='accuracy')\n",
        "plt.plot(history.history['val_accuracy'], label = 'val_accuracy')\n",
        "plt.xlabel('Epoch')\n",
        "plt.ylabel('Accuracy')\n",
        "plt.ylim([0.5, 1])\n",
        "plt.legend(loc='lower right')\n",
        "\n",
        "test_loss, test_acc = model.evaluate(test_images, test_masks, verbose=2)"
      ]
    },
    {
      "cell_type": "markdown",
      "metadata": {
        "id": "RU4QkkYpGP_Q"
      },
      "source": [
        "## Predict against raw images\n",
        "The now trained model can then be used to predict a mask for all raw images. Both seen and unseen images are predicted.\n",
        "\n"
      ]
    },
    {
      "cell_type": "code",
      "execution_count": null,
      "metadata": {
        "colab": {
          "base_uri": "https://localhost:8080/"
        },
        "id": "nr8j_JH20gdD",
        "outputId": "b3b5c153-3622-4342-c6e5-22802309cc3d"
      },
      "outputs": [
        {
          "output_type": "stream",
          "name": "stdout",
          "text": [
            "(412, 128, 128, 1)\n"
          ]
        }
      ],
      "source": [
        "# Predict for both seen and unseen images\n",
        "all_images = np.concatenate((raw_images, all_images))\n",
        "pred_masks = model.predict(all_images)"
      ]
    },
    {
      "cell_type": "code",
      "source": [
        "# De-normalize images\n",
        "print(pred_masks.shape)\n",
        "pred_masks*=255\n",
        "raw_images*=255\n",
        "mask_images*=255\n",
        "all_images*=255"
      ],
      "metadata": {
        "id": "kIoxtmqoo9Ue"
      },
      "execution_count": null,
      "outputs": []
    },
    {
      "cell_type": "markdown",
      "source": [
        "## Results\n",
        "\n",
        "The outputed images from the model are then treated in the following way:\n",
        "\n",
        "\n",
        "1.   First, the prediction image is thresholded so that only \"bright enough\" parts are used.\n",
        "2.   Vmax can then be calculated by scanning the image for the first y-value that has a non null pixel.\n",
        "3.   After that, some information is added to the images for easier readout.\n",
        "\n"
      ],
      "metadata": {
        "id": "-EKP2wT0oKrP"
      }
    },
    {
      "cell_type": "code",
      "execution_count": null,
      "metadata": {
        "colab": {
          "base_uri": "https://localhost:8080/",
          "height": 1000
        },
        "id": "fECydDjAsn0f",
        "outputId": "cb80dfbc-4acf-495f-ce62-7506daa17036"
      },
      "outputs": [],
      "source": [
        "from PIL import Image, ImageDraw, ImageFont\n",
        "from matplotlib import font_manager\n",
        "\n",
        "vmaxes_from_model = []\n",
        "bigImage = []\n",
        "failed = []\n",
        "\n",
        "for i in range(0, len(all_images)):\n",
        "  \n",
        "  # Prepare image data as np arrays\n",
        "  raw = all_images[i]\n",
        "  raw = np.array(raw).reshape(SIZE, SIZE, 1)\n",
        "  thresh = cv2.threshold(np.float32(pred_masks[i]), 116, 255, cv2.THRESH_BINARY)[1]\n",
        "  raw = np.array(raw).reshape(SIZE, SIZE)\n",
        "  thresh = np.array(thresh).reshape(SIZE, SIZE)\n",
        "  pred = np.array(pred_masks[i]).reshape(SIZE, SIZE)\n",
        "  \n",
        "  # Calculate vmax\n",
        "  try:\n",
        "    vmax_pair = 128 - cv2.findNonZero(cv2.flip(thresh, 0))[0][0]\n",
        "    vmax = vmax_pair[1]\n",
        "  except:\n",
        "    failed.append(i)\n",
        "    continue\n",
        "    \n",
        "  vmaxes_from_model.append(vmax)\n",
        "\n",
        "  \n",
        "  # Find the sans-serif system font\n",
        "  font =  font_manager.FontProperties(family='sans-serif', weight='bold')\n",
        "  file =  font_manager.findfont(font)\n",
        "  font =  ImageFont.truetype(file, 15)\n",
        "  \n",
        "  # Generate info image\n",
        "  info =   Image.new('L', (SIZE, SIZE), (82 if i%2==0 else 56))\n",
        "  indo_d = ImageDraw.Draw(info)\n",
        "  indo_d.text((5,10), str(i) + \"/\" + str(len(all_images)), font=font, align =\"left\", fill=(255))\n",
        "  indo_d.text((5,60), \"Vmax: \" + str(vmax), font=font, align =\"left\", fill=(255))\n",
        "  if i >= len(raw_images):\n",
        "    # Mark if this is an unseen image\n",
        "    indo_d.text((5,90), \"*\", font=font, align =\"left\", fill=(255))\n",
        "  info =  np.array(info).reshape(SIZE, SIZE, 1)\n",
        "\n",
        "  # Generate raw image\n",
        "  raw_mod = Image.fromarray(raw)\n",
        "  raw_d = ImageDraw.Draw(raw_mod)\n",
        "  raw_d.text((5,110), \"Raw\", font=font, align =\"left\", fill=(255))\n",
        "  raw_mod = np.array(raw_mod).reshape(SIZE, SIZE, 1)\n",
        "  \n",
        "  # Generate thresholded prediction image\n",
        "  thresh_mod = Image.fromarray(thresh)\n",
        "  thresh_d = ImageDraw.Draw(thresh_mod)\n",
        "  thresh_d.line([(0,vmax), (SIZE, vmax)], fill =\"white\", width = 1) \n",
        "  thresh_d.text((60,vmax), str(vmax), font=font, align =\"left\", fill=(255))\n",
        "  thresh_d.text((5,110), \"Predicted\", font=font, align =\"left\", fill=(255))\n",
        "  thresh_mod = np.array(thresh_mod).reshape(SIZE, SIZE, 1)\n",
        "  \n",
        "  # Generate raw prediction image\n",
        "  pred_mod = Image.fromarray(pred)\n",
        "  pred_d = ImageDraw.Draw(pred_mod)\n",
        "  pred_d.text((5,110), \"Model\", font=font, align =\"left\", fill=(255))\n",
        "  pred_mod = np.array(pred_mod).reshape(SIZE, SIZE, 1)\n",
        "  \n",
        "  # If there is an expert drawn mask\n",
        "  if i < len(raw_images):\n",
        "    \n",
        "    # Fetch it and add label\n",
        "    expert = np.array(mask_images[i]).reshape(SIZE, SIZE)\n",
        "    expert_mod = Image.fromarray(expert)\n",
        "    expert_d = ImageDraw.Draw(expert_mod)\n",
        "    expert_d.text((5,110), \"Expert\", font=font, align =\"left\", fill=(255))\n",
        "    expert_mod = np.array(expert_mod).reshape(SIZE, SIZE, 1)\n",
        "    \n",
        "    # Assemble the images \n",
        "    newImage = np.hstack((info, raw_mod, thresh_mod, pred_mod, expert_mod))\n",
        "\n",
        "  # Otherwise, just assemble the raw and generated images\n",
        "  else:\n",
        "    newImage = np.hstack((info, raw_mod, thresh_mod, pred_mod))\n",
        "  \n",
        "  # Draw image (CV2_imshow is for Google Colab, use cv2.imshow otherwise)\n",
        "  cv2_imshow(newImage)  \n",
        "\n",
        "if len(failed) > 0:\n",
        "  print(\"Images failed: \" + str(failed))"
      ]
    },
    {
      "cell_type": "markdown",
      "metadata": {
        "id": "V_1uwR25dnbd"
      },
      "source": [
        "## Calculating error\n",
        "A lot of problems with the model can be found by simply looking at the images above. However, to be able to quantify the amount of error in the model, statistical analysis is needed.\n",
        "In this case, finding errors through statistical analysis can be done with a Bland-Altman plot\n",
        "\n",
        "The graph generating function below was fetched from https://stackoverflow.com/a/16401920/8830120"
      ]
    },
    {
      "cell_type": "code",
      "execution_count": null,
      "metadata": {
        "id": "_rNfjlEwemHw"
      },
      "outputs": [],
      "source": [
        "# Calculate vmaxes from expert masks for comparison\n",
        "vmaxes_from_masks = []\n",
        "for i in range(0, len(mask_images)):\n",
        "  mask = mask_images[i]\n",
        "  mask = np.array(mask).reshape(SIZE, SIZE, 1)\n",
        "  vmax = 128 - cv2.findNonZero(cv2.flip(mask, 0))[0][0][1]\n",
        "  vmaxes_from_masks.append(vmax)"
      ]
    },
    {
      "cell_type": "code",
      "execution_count": null,
      "metadata": {
        "id": "J05Qud1ydlzB"
      },
      "outputs": [],
      "source": [
        "def bland_altman_plot(data1, data2, *args, **kwargs):\n",
        "    data1     = np.asarray(data1)\n",
        "    data2     = np.asarray(data2)\n",
        "    mean      = np.mean([data1, data2], axis=0)\n",
        "    diff      = data1 - data2                   # Difference between data1 and data2\n",
        "    md        = np.mean(diff)                   # Mean of the difference\n",
        "    sd        = np.std(diff, axis=0)            # Standard deviation of the difference\n",
        "\n",
        "    plt.scatter(mean, diff, *args, **kwargs)\n",
        "    plt.axhline(md,           color='gray', linestyle='--')\n",
        "    plt.axhline(md + 1.96*sd, color='gray', linestyle='--')\n",
        "    plt.axhline(md - 1.96*sd, color='gray', linestyle='--')\n",
        "    plt.xlabel(\"Average of 2 measures\")\n",
        "    plt.ylabel(\"Difference between 2 measures\")"
      ]
    },
    {
      "cell_type": "code",
      "execution_count": null,
      "metadata": {
        "colab": {
          "base_uri": "https://localhost:8080/",
          "height": 295
        },
        "id": "Gz6EMuX2dtBG",
        "outputId": "a92af179-5fc9-49ba-c07c-54aebe417b65"
      },
      "outputs": [
        {
          "output_type": "display_data",
          "data": {
            "image/png": "[encoded data removed]",
            "text/plain": [
              "<Figure size 432x288 with 1 Axes>"
            ]
          },
          "metadata": {
            "needs_background": "light"
          }
        }
      ],
      "source": [
        "bland_altman_plot(np.array(vmaxes_from_masks)/SIZE, np.array(vmaxes_from_model[:len(mask_images)])/SIZE)\n",
        "plt.title('Bland-Altman Plot')\n",
        "plt.show()"
      ]
    },
    {
      "cell_type": "markdown",
      "metadata": {
        "id": "Q7SzSYbGpFNS"
      },
      "source": [
        "As indicated by the plot above, it seems like the model often overshoots the vmax with most error being within ±20 pixels. Maximum error is around 50 px.\n",
        "Compared to the [research paper](https://www.ahajournals.org/doi/abs/10.1161/circ.144.suppl_1.10657), it is only 0.1 higher.\n",
        "\n",
        "Mean error stays under 0.5, which coincides with the paper's findings."
      ]
    },
    {
      "cell_type": "markdown",
      "source": [
        "## Conclusion\n",
        "\n",
        "Since the Doppler signals are often quite noisy, it is important that the model can understand both \"O\" (clean) and \"H\" (noisy) types. \n",
        "\n",
        "As for the usefullness of such a model, depending on the amount of images generated from the measurement of a single patient, it might be a good idea to double check the values as accuracy only seems to get to about 90%. Even for images which were not used for training, denoted by a `*` in the info panels above, a very accurate vmax can be calculated (See #1 below).\n",
        "\n",
        "Any bad sensor data does however still generate erroneous data (see #2 below).\n",
        "\n"
      ],
      "metadata": {
        "id": "Aes9seHdqIYz"
      }
    },
    {
      "cell_type": "markdown",
      "source": [
        "### 1.\n",
        "![download (2).png](data:image/png;base64,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)\n",
        "\n",
        "### 2.\n",
        "![download (1).png](data:image/png;base64,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)"
      ],
      "metadata": {
        "id": "wBCDG7AdvqxU"
      }
    },
    {
      "cell_type": "markdown",
      "source": [
        "Overall, I think that a model similar to this could be chosen to aid in processing huge amounts of doppler readings. For any readings that could count as \"negative\" to the patient, the result should obviously be manually checked.\n",
        "\n",
        "If another model or a manual heuristic could be made to identify which doppler images were simply bad readings, this model could gain quite a lot of reliability as most input data would be very similar."
      ],
      "metadata": {
        "id": "Zu87OX1ewd_x"
      }
    }
  ],
  "metadata": {
    "accelerator": "GPU",
    "colab": {
      "collapsed_sections": [],
      "name": "Doppler.ipynb",
      "provenance": []
    },
    "kernelspec": {
      "display_name": "Python 3",
      "name": "python3"
    },
    "language_info": {
      "name": "python"
    }
  },
  "nbformat": 4,
  "nbformat_minor": 0
}